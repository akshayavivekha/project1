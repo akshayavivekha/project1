{
  "nbformat": 4,
  "nbformat_minor": 0,
  "metadata": {
    "colab": {
      "provenance": []
    },
    "kernelspec": {
      "name": "python3",
      "display_name": "Python 3"
    },
    "language_info": {
      "name": "python"
    }
  },
  "cells": [
    {
      "cell_type": "code",
      "execution_count": 1,
      "metadata": {
        "colab": {
          "base_uri": "https://localhost:8080/"
        },
        "id": "Cqzy0vEeHAPT",
        "outputId": "f92b2dce-8574-4329-df51-27c924af6456"
      },
      "outputs": [
        {
          "output_type": "stream",
          "name": "stdout",
          "text": [
            "Enter a number = 7\n",
            "Till how many times should the multiplication table be progressed = 12\n",
            "7 X 1 = 7\n",
            "7 X 2 = 14\n",
            "7 X 3 = 21\n",
            "7 X 4 = 28\n",
            "7 X 5 = 35\n",
            "7 X 6 = 42\n",
            "7 X 7 = 49\n",
            "7 X 8 = 56\n",
            "7 X 9 = 63\n",
            "7 X 10 = 70\n",
            "7 X 11 = 77\n",
            "7 X 12 = 84\n"
          ]
        }
      ],
      "source": [
        "# project 5------multiplication table\n",
        "num1=int(input(\"Enter a number = \"))#getting a number for multiplication------7\n",
        "num2=int(input(\"Till how many times should the multiplication table be progressed = \"))#getting a number for (the range) the number of times-----12\n",
        "for i in range(num2):#range(12)\n",
        "  result=num1*(i+1)#[7*(0+1)=7]->[7*(1+1)=14]->[7*(2+1)=21]->[7*(3+1)=28].....\n",
        "  print(num1,\"X\",i+1,\"=\",result)#[7X1=7]->[7X2=14]->[7X3=21]->[7X4=28]....."
      ]
    }
  ]
}