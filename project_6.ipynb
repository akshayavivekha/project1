{
  "cells": [
    {
      "cell_type": "code",
      "execution_count": 3,
      "metadata": {
        "colab": {
          "base_uri": "https://localhost:8080/"
        },
        "id": "RM_67RfNQAat",
        "outputId": "b780fd3f-cad4-46d4-cdd1-a0869ede2dd3"
      },
      "outputs": [
        {
          "output_type": "stream",
          "name": "stdout",
          "text": [
            "Enter the passord: AKSHAYA VIVEKHA\n",
            "You have entered wrong password.TRY AGAIN\n",
            "Enter the passord: akshaya\n",
            "You have entered wrong password.TRY AGAIN\n",
            "Enter the passord: @k$h@y@\n",
            "You have entered wrong password.TRY AGAIN\n",
            "Enter the passord: @k$h@y@ v!vekh@\n",
            " You can access the program \n"
          ]
        }
      ],
      "source": [
        "#project 6-----Write a Python program that checks whether a user- entered password is correct and repeats the process until the correct password is given?\n",
        "i=1\n",
        "while i==i:\n",
        "  a=input(\"Enter the passord: \")#getting the input\n",
        "  if a != \"@k$h@y@ v!vekh@\":#checking it matches with whether the password\n",
        "    print(\"You have entered wrong password.TRY AGAIN\")#if it doesn't match, it print \"You have entered wrong password\"\n",
        "  else:\n",
        "    break #if it matches, exit the loop\n",
        "print(\" You can access the program \")\n"
      ]
    }
  ],
  "metadata": {
    "colab": {
      "provenance": []
    },
    "kernelspec": {
      "display_name": "Python 3",
      "name": "python3"
    },
    "language_info": {
      "name": "python"
    }
  },
  "nbformat": 4,
  "nbformat_minor": 0
}