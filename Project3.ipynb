{
  "nbformat": 4,
  "nbformat_minor": 0,
  "metadata": {
    "colab": {
      "provenance": []
    },
    "kernelspec": {
      "name": "python3",
      "display_name": "Python 3"
    },
    "language_info": {
      "name": "python"
    }
  },
  "cells": [
    {
      "cell_type": "code",
      "execution_count": null,
      "metadata": {
        "id": "VlO5T0o29civ"
      },
      "outputs": [],
      "source": [
        "# Underweight:BMI less than 18.5\n",
        "# Normal weight:BMI between 18.5 and 24.9\n",
        "# Overweight:BMI between 25 and 29.9\n",
        "# Obesity:\n",
        "# Class I (Moderate obesity): BMI between 30 and 34.9\n",
        "# Class II (Severe obesity): BMI between 35 and 39.9\n",
        "# Class III (Very severe or morbid obesity): BMI of 40 and above\n",
        "# bmi=weight/height**2---------formula"
      ]
    },
    {
      "cell_type": "code",
      "source": [
        "weight=float(input(\"enter your weight in kg\"))\n",
        "height=float(input(\"enter your height in metre\"))\n",
        "weight=round(weight,1)\n",
        "BMI=weight/(height**2)\n",
        "print(f\"BMI={BMI}\")\n",
        "if BMI<18.5:\n",
        "  print(\"underweight\")\n",
        "elif BMI>=18.5 and BMI<=24.9:\n",
        "  print(\"normal weight\")\n",
        "elif BMI>=25 and BMI<=29.9:\n",
        "  print(\"overweight\")\n",
        "else:\n",
        "  print(\"you are obese\")\n",
        "  if BMI>=30 and BMI<=34.9:\n",
        "    print(\"the class of obesity is moderate\")\n",
        "  if BMI>=35 and BMI<=39.9:\n",
        "    print(\"the class of obesity is severe\")\n",
        "  if BMI>=40 :\n",
        "    print(\"the class of obesity is morbid\")\n"
      ],
      "metadata": {
        "colab": {
          "base_uri": "https://localhost:8080/"
        },
        "id": "gsx7VLk5ZKIt",
        "outputId": "3af0e1f2-e54b-4189-e0c3-833a3a323135"
      },
      "execution_count": 4,
      "outputs": [
        {
          "output_type": "stream",
          "name": "stdout",
          "text": [
            "enter your weight in kg90\n",
            "enter your height in metre1.54\n",
            "BMI=37.949063923089895\n",
            "you are obese\n",
            "the class of obesity is severe\n"
          ]
        }
      ]
    }
  ]
}