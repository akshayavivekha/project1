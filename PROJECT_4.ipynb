{
  "nbformat": 4,
  "nbformat_minor": 0,
  "metadata": {
    "colab": {
      "provenance": []
    },
    "kernelspec": {
      "name": "python3",
      "display_name": "Python 3"
    },
    "language_info": {
      "name": "python"
    }
  },
  "cells": [
    {
      "cell_type": "code",
      "execution_count": 1,
      "metadata": {
        "colab": {
          "base_uri": "https://localhost:8080/"
        },
        "id": "2z8pjl3eQQ22",
        "outputId": "d4657823-fbed-4980-e3b0-6e6ff3aad056"
      },
      "outputs": [
        {
          "output_type": "stream",
          "name": "stdout",
          "text": [
            "even numbers=  [-98, 48, 66.0]\n",
            "odd numbers= [65, 75, 85.0, 52.8, 77]\n"
          ]
        }
      ],
      "source": [
        "#Find even and odd numbers from a list, and store them separately in a new list\n",
        "numbers=[65,-98,75,48,85.0,52.8,77,66.0]#the list\n",
        "odd=[]#an empty list in which we are going to insert the odd numbers\n",
        "even=[]#an empty list in which we are going to insert the even numbers\n",
        "for i in numbers:\n",
        "  if i%2==0:#checking wether it is a even number\n",
        "    even.append(i)#if so inserts the  number into the even list\n",
        "  else:\n",
        "    odd.append(i)#if not inserts the  number into the odd list\n",
        "print(\"even numbers= \",even)#printing the enven list\n",
        "print(\"odd numbers=\",odd)#printing the odd list"
      ]
    }
  ]
}