{
  "nbformat": 4,
  "nbformat_minor": 0,
  "metadata": {
    "colab": {
      "provenance": []
    },
    "kernelspec": {
      "name": "python3",
      "display_name": "Python 3"
    },
    "language_info": {
      "name": "python"
    }
  },
  "cells": [
    {
      "cell_type": "code",
      "execution_count": 1,
      "metadata": {
        "colab": {
          "base_uri": "https://localhost:8080/"
        },
        "id": "wfLbo5XZgGcw",
        "outputId": "e43dac98-e8b8-4b23-d4b6-b8be968368bc"
      },
      "outputs": [
        {
          "output_type": "stream",
          "name": "stdout",
          "text": [
            "Enter the temperature in Fahrenheit 123\n",
            "123.0°F= 50.56°C \n"
          ]
        }
      ],
      "source": [
        "#PROJECT NO.1\n",
        "\n",
        "# Python Program To Convert Fahrenheit to Celsius\n",
        "\n",
        "Fahrenheit=float(input(\"Enter the temperature in Fahrenheit \")) # receviving the input\n",
        "Celsius=(Fahrenheit-32)/1.8 # converting Fahrenheit to Celsius using the formula \"Celsius=(Fahrenheit-32)/1.8\"\n",
        "Celsius=round(Celsius,2) # rounding the decimal values of Celsius\n",
        "print(f\"{Fahrenheit}°F= {Celsius}°C \") # formatting and displaying the output\n",
        "\n",
        "#Input:\n",
        "#123.444444444444\n",
        "#Output:\n",
        "#Enter the temperature in Fahrenheit 123.444444444444\n",
        "#123.444444444444°F= 50.8°C\n",
        "\n",
        "#Input:\n",
        "#15\n",
        "#Output:\n",
        "#Enter the temperature in Fahrenheit 15\n",
        "#15.0°F= -9.44°C\n",
        "\n",
        "#Input:\n",
        "#212\n",
        "#Output:\n",
        "#Enter the temperature in Fahrenheit 212\n",
        "#212.0°F= 100.0°C\n",
        "\n",
        "#Input:\n",
        "#10\n",
        "#Output:\n",
        "#Enter the temperature in Fahrenheit 10\n",
        "#10.0°F= -12.22°C\n",
        "\n"
      ]
    }
  ]
}